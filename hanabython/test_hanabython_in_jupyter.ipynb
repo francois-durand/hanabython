{
 "cells": [
  {
   "cell_type": "code",
   "execution_count": null,
   "metadata": {
    "scrolled": false
   },
   "outputs": [
    {
     "name": "stdout",
     "output_type": "stream",
     "text": [
      "Donald X is going to play (hit Enter).\n",
      "\n",
      "************************* Recent Events *************************\n",
      "Uwe discards \u001b[30mW4\u001b[0;0m.\n",
      "Uwe draws \u001b[94mB3\u001b[0;0m.\n",
      "Antoine plays \u001b[93mY1\u001b[0;0m.\n",
      "Antoine draws \u001b[30mW4\u001b[0;0m.\n",
      "\n",
      "***************************** Hands *****************************\n",
      "Donald X\n",
      "[\u001b[94mB\u001b[0;0m\u001b[32mG\u001b[0;0m\u001b[31mR\u001b[0;0m\u001b[30mW\u001b[0;0m\u001b[93mY\u001b[0;0m 1234 , \u001b[94mB\u001b[0;0m\u001b[32mG\u001b[0;0m\u001b[31mR\u001b[0;0m\u001b[30mW\u001b[0;0m\u001b[93mY\u001b[0;0m 1234 , \u001b[94mB\u001b[0;0m\u001b[32mG\u001b[0;0m\u001b[31mR\u001b[0;0m\u001b[30mW\u001b[0;0m\u001b[93mY\u001b[0;0m 1234 , \u001b[94mB\u001b[0;0m\u001b[32mG\u001b[0;0m\u001b[31mR\u001b[0;0m\u001b[30mW\u001b[0;0m\u001b[93mY\u001b[0;0m 1234 , \u001b[94mB\u001b[0;0m\u001b[32mG\u001b[0;0m\u001b[31mR\u001b[0;0m\u001b[30mW\u001b[0;0m\u001b[93mY\u001b[0;0m     \u001b[7m5\u001b[0;0m]\n",
      "\n",
      "Uwe\n",
      "[    \u001b[94mB3\u001b[0;0m     ,     \u001b[31mR2\u001b[0;0m     ,     \u001b[93mY3\u001b[0;0m     ,     \u001b[93mY4\u001b[0;0m     ,     \u001b[93mY2\u001b[0;0m     ]\n",
      "[\u001b[94mB\u001b[0;0m\u001b[32mG\u001b[0;0m\u001b[31mR\u001b[0;0m\u001b[30mW\u001b[0;0m\u001b[93mY\u001b[0;0m 12345, \u001b[94mB\u001b[0;0m\u001b[32mG\u001b[0;0m\u001b[31mR\u001b[0;0m\u001b[30mW\u001b[0;0m\u001b[93mY\u001b[0;0m 12345, \u001b[94mB\u001b[0;0m\u001b[32mG\u001b[0;0m\u001b[31mR\u001b[0;0m\u001b[30mW\u001b[0;0m\u001b[93mY\u001b[0;0m 12345, \u001b[94mB\u001b[0;0m\u001b[32mG\u001b[0;0m\u001b[31mR\u001b[0;0m\u001b[30mW\u001b[0;0m\u001b[93mY\u001b[0;0m 12345, \u001b[94mB\u001b[0;0m\u001b[32mG\u001b[0;0m\u001b[31mR\u001b[0;0m\u001b[30mW\u001b[0;0m\u001b[93mY\u001b[0;0m 12345]\n",
      "\n",
      "Antoine\n",
      "[    \u001b[30mW4\u001b[0;0m     ,     \u001b[93mY4\u001b[0;0m     ,     \u001b[94mB2\u001b[0;0m     ,     \u001b[94mB4\u001b[0;0m     ,     \u001b[93mY1\u001b[0;0m     ]\n",
      "[\u001b[94mB\u001b[0;0m\u001b[32mG\u001b[0;0m\u001b[31mR\u001b[0;0m\u001b[30mW\u001b[0;0m\u001b[93mY\u001b[0;0m 12345, \u001b[94mB\u001b[0;0m\u001b[32mG\u001b[0;0m\u001b[31mR\u001b[0;0m\u001b[30mW\u001b[0;0m\u001b[93mY\u001b[0;0m  2345, \u001b[94mB\u001b[0;0m\u001b[32mG\u001b[0;0m\u001b[31mR\u001b[0;0m\u001b[30mW\u001b[0;0m\u001b[93mY\u001b[0;0m  2345, \u001b[94mB\u001b[0;0m\u001b[32mG\u001b[0;0m\u001b[31mR\u001b[0;0m\u001b[30mW\u001b[0;0m\u001b[93mY\u001b[0;0m  2345, \u001b[94mB\u001b[0;0m\u001b[32mG\u001b[0;0m\u001b[31mR\u001b[0;0m\u001b[30mW\u001b[0;0m\u001b[93mY\u001b[0;0m \u001b[7m1\u001b[0;0m    ]\n",
      "***************************** Board *****************************\n",
      "\u001b[93mY1\u001b[0;0m\n",
      "************************* Discard Pile **************************\n",
      "\u001b[30mW4\u001b[0;0m\n",
      "**************************** Status *****************************\n",
      "Draw pile: 33 cards left.\n",
      "\u001b[94m7\u001b[0;0m clues left (out of 8). \u001b[31m0\u001b[0;0m misfires (out of 3).\n"
     ]
    }
   ],
   "source": [
    "from hanabython import PlayerHuman, Game, Configuration\n",
    "Game(\n",
    "    Configuration.STANDARD, \n",
    "    [PlayerHuman(name='Antoine'), PlayerHuman(name='Donald X'), PlayerHuman(name='Uwe')]\n",
    ").play();"
   ]
  },
  {
   "cell_type": "code",
   "execution_count": null,
   "metadata": {
    "collapsed": true,
    "scrolled": true
   },
   "outputs": [],
   "source": []
  }
 ],
 "metadata": {
  "kernelspec": {
   "display_name": "Python 3",
   "language": "python",
   "name": "python3"
  },
  "language_info": {
   "codemirror_mode": {
    "name": "ipython",
    "version": 3
   },
   "file_extension": ".py",
   "mimetype": "text/x-python",
   "name": "python",
   "nbconvert_exporter": "python",
   "pygments_lexer": "ipython3",
   "version": "3.6.1"
  }
 },
 "nbformat": 4,
 "nbformat_minor": 2
}
