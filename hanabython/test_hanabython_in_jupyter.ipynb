{
 "cells": [
  {
   "cell_type": "code",
   "execution_count": 1,
   "metadata": {
    "scrolled": false
   },
   "outputs": [
    {
     "name": "stdout",
     "output_type": "stream",
     "text": [
      "Antoine is going to play (hit Enter).\n",
      "\n",
      "*************************** Recent Events ****************************\n",
      "Donald X discards \u001b[31mR1\u001b[0;0m.\n",
      "Donald X draws \u001b[94mB5\u001b[0;0m.\n",
      "Uwe tries to play \u001b[31mR2\u001b[0;0m and misfires.\n",
      "Uwe draws \u001b[31mR4\u001b[0;0m.\n",
      "\n",
      "******************************* Hands ********************************\n",
      "Antoine\n",
      "[\u001b[94mB\u001b[0;0m\u001b[32mG\u001b[0;0m\u001b[31mR\u001b[0;0m\u001b[30mW\u001b[0;0m\u001b[93mY\u001b[0;0m\u001b[96m\u001b[1m\u001b[4mM\u001b[0;0m 12345, \u001b[94mB\u001b[0;0m\u001b[32mG\u001b[0;0m\u001b[31mR\u001b[0;0m\u001b[30mW\u001b[0;0m\u001b[93mY\u001b[0;0m\u001b[96m\u001b[1m\u001b[4mM\u001b[0;0m 12345, \u001b[94mB\u001b[0;0m\u001b[32mG\u001b[0;0m\u001b[31mR\u001b[0;0m\u001b[30mW\u001b[0;0m\u001b[93mY\u001b[0;0m\u001b[96m\u001b[1m\u001b[4mM\u001b[0;0m 12345, \u001b[94mB\u001b[0;0m\u001b[32mG\u001b[0;0m\u001b[31mR\u001b[0;0m\u001b[30mW\u001b[0;0m\u001b[93mY\u001b[0;0m\u001b[96m\u001b[1m\u001b[4mM\u001b[0;0m 12345, \u001b[94mB\u001b[0;0m\u001b[32mG\u001b[0;0m\u001b[31mR\u001b[0;0m\u001b[30mW\u001b[0;0m\u001b[93mY\u001b[0;0m\u001b[96m\u001b[1m\u001b[4mM\u001b[0;0m 12345]\n",
      "\n",
      "Donald X\n",
      "[     \u001b[94mB5\u001b[0;0m     ,      \u001b[31mR4\u001b[0;0m     ,      \u001b[94mB3\u001b[0;0m     ,      \u001b[31mR3\u001b[0;0m     ,      \u001b[30mW4\u001b[0;0m     ]\n",
      "[\u001b[94mB\u001b[0;0m\u001b[32mG\u001b[0;0m\u001b[31mR\u001b[0;0m\u001b[30mW\u001b[0;0m\u001b[93mY\u001b[0;0m\u001b[96m\u001b[1m\u001b[4mM\u001b[0;0m 12345, \u001b[94mB\u001b[0;0m\u001b[32mG\u001b[0;0m\u001b[31mR\u001b[0;0m\u001b[30mW\u001b[0;0m\u001b[93mY\u001b[0;0m\u001b[96m\u001b[1m\u001b[4mM\u001b[0;0m 12345, \u001b[94mB\u001b[0;0m\u001b[32mG\u001b[0;0m\u001b[31mR\u001b[0;0m\u001b[30mW\u001b[0;0m\u001b[93mY\u001b[0;0m\u001b[96m\u001b[1m\u001b[4mM\u001b[0;0m 12345, \u001b[94mB\u001b[0;0m\u001b[32mG\u001b[0;0m\u001b[31mR\u001b[0;0m\u001b[30mW\u001b[0;0m\u001b[93mY\u001b[0;0m\u001b[96m\u001b[1m\u001b[4mM\u001b[0;0m 12345, \u001b[94mB\u001b[0;0m\u001b[32mG\u001b[0;0m\u001b[31mR\u001b[0;0m\u001b[30mW\u001b[0;0m\u001b[93mY\u001b[0;0m\u001b[96m\u001b[1m\u001b[4mM\u001b[0;0m 12345]\n",
      "\n",
      "Uwe\n",
      "[     \u001b[31mR4\u001b[0;0m     ,      \u001b[93mY3\u001b[0;0m     ,      \u001b[93mY3\u001b[0;0m     ,      \u001b[30mW1\u001b[0;0m     ,      \u001b[31mR1\u001b[0;0m     ]\n",
      "[\u001b[94mB\u001b[0;0m\u001b[32mG\u001b[0;0m\u001b[31mR\u001b[0;0m\u001b[30mW\u001b[0;0m\u001b[93mY\u001b[0;0m\u001b[96m\u001b[1m\u001b[4mM\u001b[0;0m 12345, \u001b[94mB\u001b[0;0m\u001b[32mG\u001b[0;0m\u001b[31mR\u001b[0;0m\u001b[30mW\u001b[0;0m\u001b[93mY\u001b[0;0m\u001b[96m\u001b[1m\u001b[4mM\u001b[0;0m  2345, \u001b[94mB\u001b[0;0m\u001b[32mG\u001b[0;0m\u001b[31mR\u001b[0;0m\u001b[30mW\u001b[0;0m\u001b[93mY\u001b[0;0m\u001b[96m\u001b[1m\u001b[4mM\u001b[0;0m  2345, \u001b[94mB\u001b[0;0m\u001b[32mG\u001b[0;0m\u001b[31mR\u001b[0;0m\u001b[30mW\u001b[0;0m\u001b[93mY\u001b[0;0m\u001b[96m\u001b[1m\u001b[4mM\u001b[0;0m \u001b[7m1\u001b[0;0m    , \u001b[94mB\u001b[0;0m\u001b[32mG\u001b[0;0m\u001b[31mR\u001b[0;0m\u001b[30mW\u001b[0;0m\u001b[93mY\u001b[0;0m\u001b[96m\u001b[1m\u001b[4mM\u001b[0;0m \u001b[7m1\u001b[0;0m    ]\n",
      "******************************* Board ********************************\n",
      "\n",
      "**************************** Discard Pile ****************************\n",
      "\u001b[31mR1 R2\u001b[0;0m\n",
      "******************************* Status *******************************\n",
      "Draw pile: 38 cards left.\n",
      "\u001b[94m8\u001b[0;0m clues left (out of 8). \u001b[31m1\u001b[0;0m misfires (out of 3).\n",
      "\n",
      "What action? (C = Clue, P = Play, D = Discard, F = Forfeit)\n",
      "F\n",
      "\n",
      "Antoine's team loses.\n",
      "Score: 0.\n",
      "\n",
      "Uwe tries to play \u001b[31mR2\u001b[0;0m and misfires.\n",
      "Uwe draws \u001b[31mR4\u001b[0;0m.\n",
      "Donald X's team loses.\n",
      "Score: 0.\n",
      "\n",
      "Uwe's team loses.\n",
      "Score: 0.\n",
      "\n"
     ]
    }
   ],
   "source": [
    "from hanabython import PlayerHuman, Game, Configuration\n",
    "Game(\n",
    "    Configuration.W_MULTICOLOR_SHORT, \n",
    "    [PlayerHuman(name='Antoine'), PlayerHuman(name='Donald X'), PlayerHuman(name='Uwe')]\n",
    ").play();"
   ]
  },
  {
   "cell_type": "code",
   "execution_count": null,
   "metadata": {
    "collapsed": true,
    "scrolled": true
   },
   "outputs": [],
   "source": []
  }
 ],
 "metadata": {
  "kernelspec": {
   "display_name": "Python 3",
   "language": "python",
   "name": "python3"
  },
  "language_info": {
   "codemirror_mode": {
    "name": "ipython",
    "version": 3
   },
   "file_extension": ".py",
   "mimetype": "text/x-python",
   "name": "python",
   "nbconvert_exporter": "python",
   "pygments_lexer": "ipython3",
   "version": "3.6.1"
  }
 },
 "nbformat": 4,
 "nbformat_minor": 2
}
