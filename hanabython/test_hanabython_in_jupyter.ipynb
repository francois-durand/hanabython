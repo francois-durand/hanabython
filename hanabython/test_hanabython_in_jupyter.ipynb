{
 "cells": [
  {
   "cell_type": "code",
   "execution_count": null,
   "metadata": {
    "scrolled": false
   },
   "outputs": [],
   "source": [
    "from hanabython import PlayerHumanText, Game, Configuration\n",
    "Game(Configuration.W_MULTICOLOR_SHORT, [\n",
    "    PlayerHumanText(name='Antoine', ipython=True), \n",
    "    PlayerHumanText(name='Donald X', ipython=True), \n",
    "    PlayerHumanText(name='Uwe', ipython=True)\n",
    "]).play();"
   ]
  },
  {
   "cell_type": "code",
   "execution_count": null,
   "metadata": {
    "collapsed": true,
    "scrolled": true
   },
   "outputs": [],
   "source": []
  }
 ],
 "metadata": {
  "kernelspec": {
   "display_name": "Python 3",
   "language": "python",
   "name": "python3"
  },
  "language_info": {
   "codemirror_mode": {
    "name": "ipython",
    "version": 3
   },
   "file_extension": ".py",
   "mimetype": "text/x-python",
   "name": "python",
   "nbconvert_exporter": "python",
   "pygments_lexer": "ipython3",
   "version": "3.6.1"
  }
 },
 "nbformat": 4,
 "nbformat_minor": 2
}
