{
 "cells": [
  {
   "cell_type": "code",
   "execution_count": null,
   "metadata": {
    "scrolled": false
   },
   "outputs": [
    {
     "name": "stdout",
     "output_type": "stream",
     "text": [
      "Donald X is going to play (hit Enter).\n",
      "\n",
      "*************************** Recent Events ****************************\n",
      "Configuration\n",
      "-------------\n",
      "Deck: with short multicolor (5 cards).\n",
      "Number of clues: 8.\n",
      "Number of misfires: 3.\n",
      "End rule: normal.\n",
      "\n",
      "First moves\n",
      "-----------\n",
      "The game begins.\n",
      "Antoine clues Donald X about 1.\n",
      "\n",
      "******************************* Hands ********************************\n",
      "Donald X\n",
      "[\u001b[94mB\u001b[0;0m\u001b[32mG\u001b[0;0m\u001b[31mR\u001b[0;0m\u001b[30mW\u001b[0;0m\u001b[93mY\u001b[0;0m\u001b[96m\u001b[1m\u001b[4mM\u001b[0;0m  2345, \u001b[94mB\u001b[0;0m\u001b[32mG\u001b[0;0m\u001b[31mR\u001b[0;0m\u001b[30mW\u001b[0;0m\u001b[93mY\u001b[0;0m\u001b[96m\u001b[1m\u001b[4mM\u001b[0;0m  2345, \u001b[94mB\u001b[0;0m\u001b[32mG\u001b[0;0m\u001b[31mR\u001b[0;0m\u001b[30mW\u001b[0;0m\u001b[93mY\u001b[0;0m\u001b[96m\u001b[1m\u001b[4mM\u001b[0;0m \u001b[7m1\u001b[0;0m    , \u001b[94mB\u001b[0;0m\u001b[32mG\u001b[0;0m\u001b[31mR\u001b[0;0m\u001b[30mW\u001b[0;0m\u001b[93mY\u001b[0;0m\u001b[96m\u001b[1m\u001b[4mM\u001b[0;0m  2345, \u001b[94mB\u001b[0;0m\u001b[32mG\u001b[0;0m\u001b[31mR\u001b[0;0m\u001b[30mW\u001b[0;0m\u001b[93mY\u001b[0;0m\u001b[96m\u001b[1m\u001b[4mM\u001b[0;0m  2345]\n",
      "\n",
      "Uwe\n",
      "[     \u001b[31mR1\u001b[0;0m     ,      \u001b[96m\u001b[1m\u001b[4mM1\u001b[0;0m     ,      \u001b[96m\u001b[1m\u001b[4mM1\u001b[0;0m     ,      \u001b[31mR1\u001b[0;0m     ,      \u001b[93mY1\u001b[0;0m     ]\n",
      "[\u001b[94mB\u001b[0;0m\u001b[32mG\u001b[0;0m\u001b[31mR\u001b[0;0m\u001b[30mW\u001b[0;0m\u001b[93mY\u001b[0;0m\u001b[96m\u001b[1m\u001b[4mM\u001b[0;0m 12345, \u001b[94mB\u001b[0;0m\u001b[32mG\u001b[0;0m\u001b[31mR\u001b[0;0m\u001b[30mW\u001b[0;0m\u001b[93mY\u001b[0;0m\u001b[96m\u001b[1m\u001b[4mM\u001b[0;0m 12345, \u001b[94mB\u001b[0;0m\u001b[32mG\u001b[0;0m\u001b[31mR\u001b[0;0m\u001b[30mW\u001b[0;0m\u001b[93mY\u001b[0;0m\u001b[96m\u001b[1m\u001b[4mM\u001b[0;0m 12345, \u001b[94mB\u001b[0;0m\u001b[32mG\u001b[0;0m\u001b[31mR\u001b[0;0m\u001b[30mW\u001b[0;0m\u001b[93mY\u001b[0;0m\u001b[96m\u001b[1m\u001b[4mM\u001b[0;0m 12345, \u001b[94mB\u001b[0;0m\u001b[32mG\u001b[0;0m\u001b[31mR\u001b[0;0m\u001b[30mW\u001b[0;0m\u001b[93mY\u001b[0;0m\u001b[96m\u001b[1m\u001b[4mM\u001b[0;0m 12345]\n",
      "\n",
      "Antoine\n",
      "[     \u001b[31mR4\u001b[0;0m     ,      \u001b[94mB2\u001b[0;0m     ,      \u001b[31mR4\u001b[0;0m     ,      \u001b[32mG4\u001b[0;0m     ,      \u001b[30mW1\u001b[0;0m     ]\n",
      "[\u001b[94mB\u001b[0;0m\u001b[32mG\u001b[0;0m\u001b[31mR\u001b[0;0m\u001b[30mW\u001b[0;0m\u001b[93mY\u001b[0;0m\u001b[96m\u001b[1m\u001b[4mM\u001b[0;0m 12345, \u001b[94mB\u001b[0;0m\u001b[32mG\u001b[0;0m\u001b[31mR\u001b[0;0m\u001b[30mW\u001b[0;0m\u001b[93mY\u001b[0;0m\u001b[96m\u001b[1m\u001b[4mM\u001b[0;0m 12345, \u001b[94mB\u001b[0;0m\u001b[32mG\u001b[0;0m\u001b[31mR\u001b[0;0m\u001b[30mW\u001b[0;0m\u001b[93mY\u001b[0;0m\u001b[96m\u001b[1m\u001b[4mM\u001b[0;0m 12345, \u001b[94mB\u001b[0;0m\u001b[32mG\u001b[0;0m\u001b[31mR\u001b[0;0m\u001b[30mW\u001b[0;0m\u001b[93mY\u001b[0;0m\u001b[96m\u001b[1m\u001b[4mM\u001b[0;0m 12345, \u001b[94mB\u001b[0;0m\u001b[32mG\u001b[0;0m\u001b[31mR\u001b[0;0m\u001b[30mW\u001b[0;0m\u001b[93mY\u001b[0;0m\u001b[96m\u001b[1m\u001b[4mM\u001b[0;0m 12345]\n",
      "******************************* Board ********************************\n",
      "\n",
      "**************************** Discard Pile ****************************\n",
      "No card discarded yet\n",
      "******************************* Status *******************************\n",
      "Draw pile: 45 cards left.\n",
      "\u001b[94m7\u001b[0;0m clues left (out of 8). \u001b[31m0\u001b[0;0m misfires (out of 3).\n"
     ]
    }
   ],
   "source": [
    "from hanabython import PlayerHuman, Game, Configuration\n",
    "Game(\n",
    "    Configuration.W_MULTICOLOR_SHORT, \n",
    "    [PlayerHuman(name='Antoine'), PlayerHuman(name='Donald X'), PlayerHuman(name='Uwe')]\n",
    ").play();"
   ]
  },
  {
   "cell_type": "code",
   "execution_count": null,
   "metadata": {
    "collapsed": true,
    "scrolled": true
   },
   "outputs": [],
   "source": []
  }
 ],
 "metadata": {
  "kernelspec": {
   "display_name": "Python 3",
   "language": "python",
   "name": "python3"
  },
  "language_info": {
   "codemirror_mode": {
    "name": "ipython",
    "version": 3
   },
   "file_extension": ".py",
   "mimetype": "text/x-python",
   "name": "python",
   "nbconvert_exporter": "python",
   "pygments_lexer": "ipython3",
   "version": "3.6.1"
  }
 },
 "nbformat": 4,
 "nbformat_minor": 2
}
