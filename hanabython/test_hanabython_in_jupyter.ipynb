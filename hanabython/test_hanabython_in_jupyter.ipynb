{
 "cells": [
  {
   "cell_type": "code",
   "execution_count": 2,
   "metadata": {
    "scrolled": false
   },
   "outputs": [
    {
     "name": "stdout",
     "output_type": "stream",
     "text": [
      "Donald X is going to play (hit Enter).\n",
      "\n",
      "************************* Recent Events *************************\n",
      "Configuration\n",
      "-------------\n",
      "Deck: normal.\n",
      "Number of clues: 8.\n",
      "Number of misfires: 3.\n",
      "End rule: normal.\n",
      "\n",
      "Initial hands\n",
      "-------------\n",
      "Donald X\n",
      "[\u001b[0;94mB\u001b[0;0m\u001b[0;32mG\u001b[0;0m\u001b[0;31mR\u001b[0;0m\u001b[0;30mW\u001b[0;0m\u001b[0;93mY\u001b[0;0m 12345, \u001b[0;94mB\u001b[0;0m\u001b[0;32mG\u001b[0;0m\u001b[0;31mR\u001b[0;0m\u001b[0;30mW\u001b[0;0m\u001b[0;93mY\u001b[0;0m 12345, \u001b[0;94mB\u001b[0;0m\u001b[0;32mG\u001b[0;0m\u001b[0;31mR\u001b[0;0m\u001b[0;30mW\u001b[0;0m\u001b[0;93mY\u001b[0;0m 12345, \u001b[0;94mB\u001b[0;0m\u001b[0;32mG\u001b[0;0m\u001b[0;31mR\u001b[0;0m\u001b[0;30mW\u001b[0;0m\u001b[0;93mY\u001b[0;0m 12345, \u001b[0;94mB\u001b[0;0m\u001b[0;32mG\u001b[0;0m\u001b[0;31mR\u001b[0;0m\u001b[0;30mW\u001b[0;0m\u001b[0;93mY\u001b[0;0m 12345]\n",
      "\n",
      "Uwe\n",
      "[    \u001b[0;32mG5\u001b[0;0m     ,     \u001b[0;31mR1\u001b[0;0m     ,     \u001b[0;32mG2\u001b[0;0m     ,     \u001b[0;31mR5\u001b[0;0m     ,     \u001b[0;93mY3\u001b[0;0m     ]\n",
      "[\u001b[0;94mB\u001b[0;0m\u001b[0;32mG\u001b[0;0m\u001b[0;31mR\u001b[0;0m\u001b[0;30mW\u001b[0;0m\u001b[0;93mY\u001b[0;0m 12345, \u001b[0;94mB\u001b[0;0m\u001b[0;32mG\u001b[0;0m\u001b[0;31mR\u001b[0;0m\u001b[0;30mW\u001b[0;0m\u001b[0;93mY\u001b[0;0m 12345, \u001b[0;94mB\u001b[0;0m\u001b[0;32mG\u001b[0;0m\u001b[0;31mR\u001b[0;0m\u001b[0;30mW\u001b[0;0m\u001b[0;93mY\u001b[0;0m 12345, \u001b[0;94mB\u001b[0;0m\u001b[0;32mG\u001b[0;0m\u001b[0;31mR\u001b[0;0m\u001b[0;30mW\u001b[0;0m\u001b[0;93mY\u001b[0;0m 12345, \u001b[0;94mB\u001b[0;0m\u001b[0;32mG\u001b[0;0m\u001b[0;31mR\u001b[0;0m\u001b[0;30mW\u001b[0;0m\u001b[0;93mY\u001b[0;0m 12345]\n",
      "\n",
      "Antoine\n",
      "[    \u001b[0;93mY5\u001b[0;0m     ,     \u001b[0;94mB2\u001b[0;0m     ,     \u001b[0;93mY1\u001b[0;0m     ,     \u001b[0;93mY1\u001b[0;0m     ,     \u001b[0;93mY2\u001b[0;0m     ]\n",
      "[\u001b[0;94mB\u001b[0;0m\u001b[0;32mG\u001b[0;0m\u001b[0;31mR\u001b[0;0m\u001b[0;30mW\u001b[0;0m\u001b[0;93mY\u001b[0;0m 12345, \u001b[0;94mB\u001b[0;0m\u001b[0;32mG\u001b[0;0m\u001b[0;31mR\u001b[0;0m\u001b[0;30mW\u001b[0;0m\u001b[0;93mY\u001b[0;0m 12345, \u001b[0;94mB\u001b[0;0m\u001b[0;32mG\u001b[0;0m\u001b[0;31mR\u001b[0;0m\u001b[0;30mW\u001b[0;0m\u001b[0;93mY\u001b[0;0m 12345, \u001b[0;94mB\u001b[0;0m\u001b[0;32mG\u001b[0;0m\u001b[0;31mR\u001b[0;0m\u001b[0;30mW\u001b[0;0m\u001b[0;93mY\u001b[0;0m 12345, \u001b[0;94mB\u001b[0;0m\u001b[0;32mG\u001b[0;0m\u001b[0;31mR\u001b[0;0m\u001b[0;30mW\u001b[0;0m\u001b[0;93mY\u001b[0;0m 12345]\n",
      "\n",
      "First moves\n",
      "-----------\n",
      "The game begins.\n",
      "Antoine clues Uwe about \u001b[0;94mB\u001b[0;0m.\n",
      "\n",
      "***************************** Hands *****************************\n",
      "Donald X\n",
      "[\u001b[0;94mB\u001b[0;0m\u001b[0;32mG\u001b[0;0m\u001b[0;31mR\u001b[0;0m\u001b[0;30mW\u001b[0;0m\u001b[0;93mY\u001b[0;0m 12345, \u001b[0;94mB\u001b[0;0m\u001b[0;32mG\u001b[0;0m\u001b[0;31mR\u001b[0;0m\u001b[0;30mW\u001b[0;0m\u001b[0;93mY\u001b[0;0m 12345, \u001b[0;94mB\u001b[0;0m\u001b[0;32mG\u001b[0;0m\u001b[0;31mR\u001b[0;0m\u001b[0;30mW\u001b[0;0m\u001b[0;93mY\u001b[0;0m 12345, \u001b[0;94mB\u001b[0;0m\u001b[0;32mG\u001b[0;0m\u001b[0;31mR\u001b[0;0m\u001b[0;30mW\u001b[0;0m\u001b[0;93mY\u001b[0;0m 12345, \u001b[0;94mB\u001b[0;0m\u001b[0;32mG\u001b[0;0m\u001b[0;31mR\u001b[0;0m\u001b[0;30mW\u001b[0;0m\u001b[0;93mY\u001b[0;0m 12345]\n",
      "\n",
      "Uwe\n",
      "[    \u001b[0;32mG5\u001b[0;0m     ,     \u001b[0;31mR1\u001b[0;0m     ,     \u001b[0;32mG2\u001b[0;0m     ,     \u001b[0;31mR5\u001b[0;0m     ,     \u001b[0;93mY3\u001b[0;0m     ]\n",
      "[ \u001b[0;32mG\u001b[0;0m\u001b[0;31mR\u001b[0;0m\u001b[0;30mW\u001b[0;0m\u001b[0;93mY\u001b[0;0m 12345,  \u001b[0;32mG\u001b[0;0m\u001b[0;31mR\u001b[0;0m\u001b[0;30mW\u001b[0;0m\u001b[0;93mY\u001b[0;0m 12345,  \u001b[0;32mG\u001b[0;0m\u001b[0;31mR\u001b[0;0m\u001b[0;30mW\u001b[0;0m\u001b[0;93mY\u001b[0;0m 12345,  \u001b[0;32mG\u001b[0;0m\u001b[0;31mR\u001b[0;0m\u001b[0;30mW\u001b[0;0m\u001b[0;93mY\u001b[0;0m 12345,  \u001b[0;32mG\u001b[0;0m\u001b[0;31mR\u001b[0;0m\u001b[0;30mW\u001b[0;0m\u001b[0;93mY\u001b[0;0m 12345]\n",
      "\n",
      "Antoine\n",
      "[    \u001b[0;93mY5\u001b[0;0m     ,     \u001b[0;94mB2\u001b[0;0m     ,     \u001b[0;93mY1\u001b[0;0m     ,     \u001b[0;93mY1\u001b[0;0m     ,     \u001b[0;93mY2\u001b[0;0m     ]\n",
      "[\u001b[0;94mB\u001b[0;0m\u001b[0;32mG\u001b[0;0m\u001b[0;31mR\u001b[0;0m\u001b[0;30mW\u001b[0;0m\u001b[0;93mY\u001b[0;0m 12345, \u001b[0;94mB\u001b[0;0m\u001b[0;32mG\u001b[0;0m\u001b[0;31mR\u001b[0;0m\u001b[0;30mW\u001b[0;0m\u001b[0;93mY\u001b[0;0m 12345, \u001b[0;94mB\u001b[0;0m\u001b[0;32mG\u001b[0;0m\u001b[0;31mR\u001b[0;0m\u001b[0;30mW\u001b[0;0m\u001b[0;93mY\u001b[0;0m 12345, \u001b[0;94mB\u001b[0;0m\u001b[0;32mG\u001b[0;0m\u001b[0;31mR\u001b[0;0m\u001b[0;30mW\u001b[0;0m\u001b[0;93mY\u001b[0;0m 12345, \u001b[0;94mB\u001b[0;0m\u001b[0;32mG\u001b[0;0m\u001b[0;31mR\u001b[0;0m\u001b[0;30mW\u001b[0;0m\u001b[0;93mY\u001b[0;0m 12345]\n",
      "***************************** Board *****************************\n",
      "\n",
      "************************* Discard Pile **************************\n",
      "No card discarded yet\n",
      "**************************** Status *****************************\n",
      "Draw pile: 35 cards left.\n",
      "\u001b[0;94m7\u001b[0;0m clues left (out of 8). \u001b[0;31m0\u001b[0;0m misfires (out of 3).\n",
      "\n",
      "What action? (C = Clue, P = Play, D = Discard, F = Forfeit)\n",
      "F\n",
      "\n",
      "Your turn is over (hit Enter).\n",
      "\n",
      "Antoine's team loses.\n",
      "Score: 0.\n",
      "\n",
      "Donald X's team loses.\n",
      "Score: 0.\n",
      "\n",
      "Configuration\n",
      "-------------\n",
      "Deck: normal.\n",
      "Number of clues: 8.\n",
      "Number of misfires: 3.\n",
      "End rule: normal.\n",
      "\n",
      "Initial hands\n",
      "-------------\n",
      "Uwe\n",
      "[\u001b[0;94mB\u001b[0;0m\u001b[0;32mG\u001b[0;0m\u001b[0;31mR\u001b[0;0m\u001b[0;30mW\u001b[0;0m\u001b[0;93mY\u001b[0;0m 12345, \u001b[0;94mB\u001b[0;0m\u001b[0;32mG\u001b[0;0m\u001b[0;31mR\u001b[0;0m\u001b[0;30mW\u001b[0;0m\u001b[0;93mY\u001b[0;0m 12345, \u001b[0;94mB\u001b[0;0m\u001b[0;32mG\u001b[0;0m\u001b[0;31mR\u001b[0;0m\u001b[0;30mW\u001b[0;0m\u001b[0;93mY\u001b[0;0m 12345, \u001b[0;94mB\u001b[0;0m\u001b[0;32mG\u001b[0;0m\u001b[0;31mR\u001b[0;0m\u001b[0;30mW\u001b[0;0m\u001b[0;93mY\u001b[0;0m 12345, \u001b[0;94mB\u001b[0;0m\u001b[0;32mG\u001b[0;0m\u001b[0;31mR\u001b[0;0m\u001b[0;30mW\u001b[0;0m\u001b[0;93mY\u001b[0;0m 12345]\n",
      "\n",
      "Antoine\n",
      "[    \u001b[0;93mY5\u001b[0;0m     ,     \u001b[0;94mB2\u001b[0;0m     ,     \u001b[0;93mY1\u001b[0;0m     ,     \u001b[0;93mY1\u001b[0;0m     ,     \u001b[0;93mY2\u001b[0;0m     ]\n",
      "[\u001b[0;94mB\u001b[0;0m\u001b[0;32mG\u001b[0;0m\u001b[0;31mR\u001b[0;0m\u001b[0;30mW\u001b[0;0m\u001b[0;93mY\u001b[0;0m 12345, \u001b[0;94mB\u001b[0;0m\u001b[0;32mG\u001b[0;0m\u001b[0;31mR\u001b[0;0m\u001b[0;30mW\u001b[0;0m\u001b[0;93mY\u001b[0;0m 12345, \u001b[0;94mB\u001b[0;0m\u001b[0;32mG\u001b[0;0m\u001b[0;31mR\u001b[0;0m\u001b[0;30mW\u001b[0;0m\u001b[0;93mY\u001b[0;0m 12345, \u001b[0;94mB\u001b[0;0m\u001b[0;32mG\u001b[0;0m\u001b[0;31mR\u001b[0;0m\u001b[0;30mW\u001b[0;0m\u001b[0;93mY\u001b[0;0m 12345, \u001b[0;94mB\u001b[0;0m\u001b[0;32mG\u001b[0;0m\u001b[0;31mR\u001b[0;0m\u001b[0;30mW\u001b[0;0m\u001b[0;93mY\u001b[0;0m 12345]\n",
      "\n",
      "Donald X\n",
      "[    \u001b[0;32mG2\u001b[0;0m     ,     \u001b[0;30mW4\u001b[0;0m     ,     \u001b[0;94mB3\u001b[0;0m     ,     \u001b[0;94mB5\u001b[0;0m     ,     \u001b[0;32mG4\u001b[0;0m     ]\n",
      "[\u001b[0;94mB\u001b[0;0m\u001b[0;32mG\u001b[0;0m\u001b[0;31mR\u001b[0;0m\u001b[0;30mW\u001b[0;0m\u001b[0;93mY\u001b[0;0m 12345, \u001b[0;94mB\u001b[0;0m\u001b[0;32mG\u001b[0;0m\u001b[0;31mR\u001b[0;0m\u001b[0;30mW\u001b[0;0m\u001b[0;93mY\u001b[0;0m 12345, \u001b[0;94mB\u001b[0;0m\u001b[0;32mG\u001b[0;0m\u001b[0;31mR\u001b[0;0m\u001b[0;30mW\u001b[0;0m\u001b[0;93mY\u001b[0;0m 12345, \u001b[0;94mB\u001b[0;0m\u001b[0;32mG\u001b[0;0m\u001b[0;31mR\u001b[0;0m\u001b[0;30mW\u001b[0;0m\u001b[0;93mY\u001b[0;0m 12345, \u001b[0;94mB\u001b[0;0m\u001b[0;32mG\u001b[0;0m\u001b[0;31mR\u001b[0;0m\u001b[0;30mW\u001b[0;0m\u001b[0;93mY\u001b[0;0m 12345]\n",
      "\n",
      "First moves\n",
      "-----------\n",
      "The game begins.\n",
      "Antoine clues Uwe about \u001b[0;94mB\u001b[0;0m.\n",
      "Uwe's team loses.\n",
      "Score: 0.\n",
      "\n"
     ]
    }
   ],
   "source": [
    "from hanabython import PlayerHuman, Game, Configuration\n",
    "from IPython.display import clear_output\n",
    "Game(\n",
    "    Configuration.STANDARD, \n",
    "    [PlayerHuman(name='Antoine'), PlayerHuman(name='Donald X'), PlayerHuman(name='Uwe')]\n",
    ").play();"
   ]
  },
  {
   "cell_type": "code",
   "execution_count": null,
   "metadata": {
    "collapsed": true,
    "scrolled": true
   },
   "outputs": [],
   "source": []
  }
 ],
 "metadata": {
  "kernelspec": {
   "display_name": "Python 3",
   "language": "python",
   "name": "python3"
  },
  "language_info": {
   "codemirror_mode": {
    "name": "ipython",
    "version": 3
   },
   "file_extension": ".py",
   "mimetype": "text/x-python",
   "name": "python",
   "nbconvert_exporter": "python",
   "pygments_lexer": "ipython3",
   "version": "3.6.1"
  }
 },
 "nbformat": 4,
 "nbformat_minor": 2
}
